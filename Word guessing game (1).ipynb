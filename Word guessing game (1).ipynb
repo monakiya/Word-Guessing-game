{
 "cells": [
  {
   "cell_type": "code",
   "execution_count": 4,
   "id": "4d29968f",
   "metadata": {},
   "outputs": [
    {
     "name": "stdout",
     "output_type": "stream",
     "text": [
      "What is your name?moni\n",
      "All the best moni\n",
      "Guess the Charcters\n",
      "_\n",
      " _\n",
      " _\n",
      " _\n",
      " _\n",
      " _\n",
      " \n",
      "Guess the character: i\n",
      "_\n",
      " _\n",
      " _\n",
      " i _\n",
      " _\n",
      " \n",
      "Guess the character: c\n",
      "Wrong guess\n",
      "You have 4 attempt left\n",
      "_\n",
      " _\n",
      " _\n",
      " i _\n",
      " _\n",
      " \n",
      "Guess the character: C\n",
      "C _\n",
      " _\n",
      " i _\n",
      " _\n",
      " \n",
      "Guess the character: o\n",
      "C o _\n",
      " i _\n",
      " _\n",
      " \n",
      "Guess the character: d\n",
      "C o d i _\n",
      " _\n",
      " \n",
      "Guess the character: n\n",
      "C o d i n _\n",
      " \n",
      "Guess the character: g\n",
      "C o d i n g You win!\n",
      "The word is Coding\n",
      "Coding\n"
     ]
    }
   ],
   "source": [
    "import random\n",
    "name=input(\"What is your name?\")\n",
    "print(\"All the best\",name)\n",
    "sample_words=[\"Python\",\"Programming\",\"Coding\",\"Machine Learning\",\"Color\"]\n",
    "word=random.choice(sample_words)\n",
    "print(\"Guess the Charcters\")\n",
    "guesses=\" \"\n",
    "attempt=5\n",
    "while attempt>0:\n",
    "    failed=0\n",
    "    for char in word:\n",
    "        if char in guesses:\n",
    "            print(char,end=\" \")\n",
    "        else:\n",
    "            print(\"_\")\n",
    "            print(end=\" \")\n",
    "            failed+=1\n",
    "    if failed==0:\n",
    "        print(\"You win!\")\n",
    "        print(\"The word is\",word)\n",
    "        break\n",
    "    print()\n",
    "    guess=input(\"Guess the character: \")\n",
    "    guesses+=guess\n",
    "    if guess not in word:\n",
    "        attempt-=1\n",
    "        print(\"Wrong guess\")\n",
    "        print(\"You have\",attempt,\"attempt left\")\n",
    "        if attempt==0:\n",
    "            print(\"You loose\\n Better Luck next time\")\n",
    
   ]
  },
  {
   "cell_type": "code",
   "execution_count": null,
   "id": "77fe503f",
   "metadata": {},
   "outputs": [],
   "source": []
  },
  {
   "cell_type": "code",
   "execution_count": null,
   "id": "dae8a03e",
   "metadata": {},
   "outputs": [],
   "source": []
  },
  {
   "cell_type": "code",
   "execution_count": null,
   "id": "45263e38",
   "metadata": {},
   "outputs": [],
   "source": []
  },
  {
   "cell_type": "code",
   "execution_count": null,
   "id": "ee3e2456",
   "metadata": {},
   "outputs": [],
   "source": []
  },
  {
   "cell_type": "code",
   "execution_count": null,
   "id": "245aae4c",
   "metadata": {},
   "outputs": [],
   "source": []
  },
  {
   "cell_type": "code",
   "execution_count": null,
   "id": "392029fb",
   "metadata": {},
   "outputs": [],
   "source": []
  }
 ],
 "metadata": {
  "kernelspec": {
   "display_name": "Python 3",
   "language": "python",
   "name": "python3"
  },
  "language_info": {
   "codemirror_mode": {
    "name": "ipython",
    "version": 3
   },
   "file_extension": ".py",
   "mimetype": "text/x-python",
   "name": "python",
   "nbconvert_exporter": "python",
   "pygments_lexer": "ipython3",
   "version": "3.8.8"
  }
 },
 "nbformat": 4,
 "nbformat_minor": 5
}
